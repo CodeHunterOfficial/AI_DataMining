{
  "nbformat": 4,
  "nbformat_minor": 0,
  "metadata": {
    "colab": {
      "provenance": [],
      "authorship_tag": "ABX9TyPAVqRHzq2UnpAdQyjuSBfg",
      "include_colab_link": true
    },
    "kernelspec": {
      "name": "python3",
      "display_name": "Python 3"
    },
    "language_info": {
      "name": "python"
    }
  },
  "cells": [
    {
      "cell_type": "markdown",
      "metadata": {
        "id": "view-in-github",
        "colab_type": "text"
      },
      "source": [
        "<a href=\"https://colab.research.google.com/github/CodeHunterOfficial/AI_DataMining/blob/main/NLP/Lecture%209.%20MLP_CNN/%D0%9F%D1%80%D0%BE%D0%B1%D0%BB%D0%B5%D0%BC%D0%B0_%D0%BD%D0%B5%D1%81%D0%B1%D0%B0%D0%BB%D0%B0%D0%BD%D1%81%D0%B8%D1%80%D0%BE%D0%B2%D0%B0%D0%BD%D0%BD%D0%BE%D1%81%D1%82%D0%B8_%D0%BA%D0%BB%D0%B0%D1%81%D1%81%D0%BE%D0%B2_%D0%B2_%D0%BC%D0%B0%D1%88%D0%B8%D0%BD%D0%BD%D0%BE%D0%BC_%D0%BE%D0%B1%D1%83%D1%87%D0%B5%D0%BD%D0%B8%D0%B8.ipynb\" target=\"_parent\"><img src=\"https://colab.research.google.com/assets/colab-badge.svg\" alt=\"Open In Colab\"/></a>"
      ]
    },
    {
      "cell_type": "markdown",
      "source": [
        "#Проблема несбалансированности классов в машинном обучении\n",
        "\n",
        "### Введение\n",
        "\n",
        "Проблема несбалансированности классов — это одна из основных проблем в задачах машинного обучения, особенно при классификации. В реальных данных часто встречаются несбалансированные классы, когда один класс значительно преобладает над другим. Это может происходить в задачах, таких как медицинская диагностика, обнаружение мошенничества, анализ тональности текстов и многие другие. Такая несбалансированность может привести к тому, что модели будут игнорировать редкие классы, что скажется на их реальной эффективности.\n",
        "\n",
        "### 1. Что такое несбалансированность классов?\n",
        "\n",
        "#### Определение\n",
        "\n",
        "**Несбалансированность классов** — это ситуация, когда в наборе данных один или несколько классов представлены в значительно меньшем количестве, чем другие. Например, в задаче бинарной классификации может быть 95% примеров одного класса и только 5% другого.\n",
        "\n",
        "Это создает иллюзию высокой эффективности модели, так как она может достигать высокой точности (accuracy), просто предсказывая доминирующий класс для всех объектов, но не выявлять редкие классы.\n",
        "\n",
        "#### Основные показатели несбалансированности\n",
        "\n",
        "1. **Соотношение классов (Class Ratio)**:  \n",
        "   $r = \\frac{n_{\\text{minority}}}{n_{\\text{majority}}}$,  \n",
        "   где $n_{\\text{minority}}$ — количество объектов меньшинства, $n_{\\text{majority}}$ — количество объектов большинства.\n",
        "\n",
        "2. **Коэффициент несбалансированности (Imbalance Ratio, IR)**:  \n",
        "   $IR = \\frac{n_{\\text{majority}}}{n_{\\text{minority}}}$.  \n",
        "   Чем больше этот коэффициент, тем сильнее дисбаланс. Например:  \n",
        "   - Легкая несбалансированность: $IR \\approx 2-5$.  \n",
        "   - Умеренная несбалансированность: $IR \\approx 10-20$.  \n",
        "   - Сильная несбалансированность: $IR > 100$.\n",
        "\n",
        "#### Пример: Распределение данных\n",
        "\n",
        "Предположим, что в задаче классификации спама в почте:  \n",
        "- 9500 писем являются \"не спамом\" (95%).\n",
        "- 500 писем являются \"спамом\" (5%).\n",
        "\n",
        "Модель, которая всегда будет предсказывать \"не спам\", получит точность в 95%, но её **Recall** для класса \"спам\" будет равен 0, что делает модель бесполезной для реальной задачи.\n",
        "\n",
        "#### Типы задач с несбалансированностью\n",
        "\n",
        "1. **Бинарная классификация**: Один класс значительно преобладает.\n",
        "2. **Многоклассовая классификация**: Несколько классов, из которых один или несколько редки.\n",
        "3. **Многометкавая классификация**: Каждый класс имеет разное количество примеров, и редкие метки могут игнорироваться.\n",
        "\n",
        "### 2. Проблемы, связанные с несбалансированностью классов\n",
        "\n",
        "#### 2.1. Смещение модели\n",
        "\n",
        "- **Склонность к большинству**: Модели обучаются хорошо предсказывать доминирующий класс, что приводит к игнорированию меньшинства.\n",
        "- **Низкая производительность на меньшинстве**: Модель может не научиться эффективно классифицировать примеры из меньшинства, что снижает её обобщающую способность.\n",
        "\n",
        "#### 2.2. Проблемы с метриками оценки\n",
        "\n",
        "- **Иллюзия точности**: Точность становится ненадежной метрикой в случае несбалансированных данных.\n",
        "- **Недооценка важности ошибок**: В таких задачах, как медицинская диагностика, ложные отрицательные предсказания могут быть более критичными, чем ложные положительные.\n",
        "\n",
        "#### 2.3. Дефицит данных меньшинства\n",
        "\n",
        "- **Невозможность изучить сложные закономерности**: Малое количество данных не позволяет модели эффективно изучать особенности редкого класса.\n",
        "- **Переобучение**: Модели могут запоминать данные меньшинства, что снижает их способность обобщать на новые данные.\n",
        "\n",
        "#### 2.4. Проблемы адаптации\n",
        "\n",
        "- **Слабая генерализация**: Модели, обученные на несбалансированных данных, плохо работают в реальных сценариях, где данные могут быть более сбалансированными.\n",
        "\n",
        "### 3. Методы решения проблемы несбалансированности классов\n",
        "\n",
        "Существует множество методов для решения этой проблемы, которые можно применять как по отдельности, так и в комбинации.\n",
        "\n",
        "#### 3.1. Сбор дополнительных данных\n",
        "\n",
        "- **Увеличение выборки меньшинства**: Один из наиболее очевидных методов, но часто трудно применимый. Например, для редких заболеваний данные трудно собрать.\n",
        "- **Аугментация данных**: Использование генерации новых данных на основе имеющихся, например, перефразирование в текстовых задачах или изменение яркости в изображениях.\n",
        "\n",
        "#### 3.2. Переклассификация (Resampling)\n",
        "\n",
        "Переклассификация — это изменение числа примеров в каждом классе для сбалансировки данных.\n",
        "\n",
        "- **Oversampling (увеличение данных меньшинства)**: Примеры меньшинства могут быть повторены.  \n",
        "  - **SMOTE**: Создание синтетических примеров на основе ближайших соседей меньшинства.\n",
        "\n",
        "- **Undersampling (уменьшение данных большинства)**: Сокращение числа примеров доминирующего класса, но с риском потери важной информации.\n",
        "\n",
        "#### 3.3. Изменение функции потерь\n",
        "\n",
        "Многие алгоритмы обучения позволяют настроить функцию потерь для учёта несбалансированности.\n",
        "\n",
        "- **Взвешивание классов**: Устанавливаются большие веса для меньшинства, чтобы сделать ошибку на нём более \"дорогой\" для модели.\n",
        "- **Cost-sensitive learning**: Учитывает стоимость ошибок для разных классов.\n",
        "\n",
        "#### 3.4. Использование специализированных алгоритмов\n",
        "\n",
        "Некоторые алгоритмы лучше справляются с несбалансированностью классов:\n",
        "\n",
        "- **Деревья решений и ансамбли**: Например, Random Forest и Gradient Boosting могут использовать настройку веса классов для учёта несбалансированности.\n",
        "- **Классификаторы на основе аномалий**: Например, One-Class SVM, который может быть полезен при экстремальном дисбалансе.\n",
        "\n",
        "#### 3.5. Использование правильных метрик оценки\n",
        "\n",
        "Вместо точности следует использовать метрики, которые лучше отражают работу на несбалансированных данных:\n",
        "\n",
        "- **F1-score**: Гармоническое среднее точности и полноты.\n",
        "- **Precision-Recall Curve**: График для визуализации точности и полноты.\n",
        "- **ROC-AUC**: Площадь под кривой ROC, показывающая способность различать классы.\n",
        "\n",
        "#### 3.6. Использование генеративных методов\n",
        "\n",
        "- **Генеративные модели (GANs)**: Могут использоваться для генерации синтетических данных меньшинства, что помогает сбалансировать данные.\n",
        "\n",
        "### 4. Примеры и практические применения\n",
        "\n",
        "#### 4.1. Медицинская диагностика\n",
        "\n",
        "Задачи с редкими заболеваниями требуют, чтобы модель была чувствительна к меньшинству. Для таких задач полезно использовать методы переклассификации и SMOTE.\n",
        "\n",
        "#### 4.2. Обнаружение мошенничества\n",
        "\n",
        "Мошенничество часто составляет менее 1% всех данных. Для таких задач обычно используются методы переклассификации и алгоритмы с взвешиванием классов.\n",
        "\n",
        "#### 4.3. Классификация текстов\n",
        "\n",
        "Анализ тональности текстов сталкивается с проблемой преобладания положительных отзывов. В таких случаях полезны методы увеличения данных или специализированные метрики.\n",
        "\n",
        "Таким образом, несбалансированность классов — это значительная проблема для машинного обучения, но её можно решить с помощью различных методов, включая увеличение данных, переклассификацию, изменение функции потерь и использование правильных метрик. Важно подходить к этой задаче комплексно, чтобы добиться лучших результатов и создать более точные, надежные модели.\n",
        "\n",
        "\n",
        "\n",
        "Для генерации данных с несбалансированными классами и реализации различных методов решения проблемы, таких как переклассификация (oversampling и undersampling), изменение функции потерь, использование специализированных алгоритмов и правильных метрик, мы можем создать пример на основе Python с использованием библиотеки `sklearn`. Рассмотрим создание набора данных и применение этих методов.\n",
        "\n",
        "### 1. Генерация несбалансированного датасета\n",
        "\n",
        "Для начала сгенерируем искусственный несбалансированный датасет с использованием `make_classification` из `sklearn.datasets`. Мы создадим 2 класса, где один будет существенно доминировать.\n",
        "\n"
      ],
      "metadata": {
        "id": "yAXBJgHv4HKq"
      }
    },
    {
      "cell_type": "code",
      "source": [
        "from sklearn.datasets import make_classification\n",
        "import numpy as np\n",
        "import pandas as pd\n",
        "from collections import Counter\n",
        "\n",
        "# Генерация несбалансированного датасета\n",
        "X, y = make_classification(\n",
        "    n_samples=10000,      # Количество примеров\n",
        "    n_features=20,        # Количество признаков\n",
        "    n_informative=2,      # Количество информативных признаков\n",
        "    n_classes=2,          # Количество классов\n",
        "    weights=[0.95, 0.05], # Несбалансированность классов\n",
        "    random_state=42\n",
        ")\n",
        "\n",
        "# Просмотр количества объектов в каждом классе\n",
        "print(f'Классы в датасете: {Counter(y)}')"
      ],
      "metadata": {
        "colab": {
          "base_uri": "https://localhost:8080/"
        },
        "id": "UkmzQs_H4MOc",
        "outputId": "f1d19e93-5c16-4431-8a09-91d037507308"
      },
      "execution_count": 1,
      "outputs": [
        {
          "output_type": "stream",
          "name": "stdout",
          "text": [
            "Классы в датасете: Counter({0: 9460, 1: 540})\n"
          ]
        }
      ]
    },
    {
      "cell_type": "markdown",
      "source": [
        "Данный код на Python использует библиотеку `scikit-learn` для генерации синтетического несбалансированного датасета, который может быть использован для задач классификации. Рассмотрим его подробнее.\n",
        "\n",
        "### Импорт библиотек\n",
        "\n",
        "```python\n",
        "from sklearn.datasets import make_classification\n",
        "import numpy as np\n",
        "import pandas as pd\n",
        "from collections import Counter\n",
        "```\n",
        "\n",
        "- **`sklearn.datasets.make_classification`** — функция, которая создает набор данных для задач классификации.\n",
        "- **`numpy`** и **`pandas`** — популярные библиотеки для работы с массивами и данными в формате таблиц соответственно.\n",
        "- **`Counter`** из модуля **`collections`** — класс для подсчета объектов в коллекциях, который позволяет легко подсчитать количество экземпляров каждого класса в целевой переменной.\n",
        "\n",
        "### Генерация несбалансированного датасета\n",
        "\n",
        "```python\n",
        "X, y = make_classification(\n",
        "    n_samples=10000,      # Количество примеров\n",
        "    n_features=20,        # Количество признаков\n",
        "    n_informative=2,      # Количество информативных признаков\n",
        "    n_classes=2,          # Количество классов\n",
        "    weights=[0.95, 0.05], # Несбалансированность классов\n",
        "    random_state=42\n",
        ")\n",
        "```\n",
        "\n",
        "- **`n_samples=10000`**: Указывает, что будет сгенерировано 10,000 примеров.\n",
        "- **`n_features=20`**: Определяет общее количество признаков (функций) для каждого примера.\n",
        "- **`n_informative=2`**: Указывает, что только 2 из 20 признаков будут информативными для классификации, остальные будут случайными.\n",
        "- **`n_classes=2`**: Устанавливает количество классов, к которым будут принадлежать примеры. В данном случае, два класса.\n",
        "- **`weights=[0.95, 0.05]`**: Определяет распределение классов. В данном случае, 95% примеров будут принадлежать первому классу, а 5% — ко второму, что создает несбалансированность в данных.\n",
        "- **`random_state=42`**: Устанавливает начальное состояние генератора случайных чисел для воспроизводимости результатов.\n",
        "\n",
        "### Просмотр количества объектов в каждом классе\n",
        "\n",
        "```python\n",
        "print(f'Классы в датасете: {Counter(y)}')\n",
        "```\n",
        "\n",
        "- Здесь используется `Counter` для подсчета количества экземпляров в каждом классе целевой переменной `y`. Результат выводится на экран в формате, который показывает, сколько примеров относится к каждому классу.\n",
        "\n",
        "\n",
        "\n",
        "Таким образом, данный код создает несбалансированный датасет с 10,000 примерами и 20 признаками, из которых только 2 являются информативными для классификации. Это может быть полезно для тестирования алгоритмов машинного обучения, особенно в условиях несбалансированных классов."
      ],
      "metadata": {
        "id": "HzOLikbX5tpm"
      }
    },
    {
      "cell_type": "markdown",
      "source": [
        "\n",
        "Этот код создаст набор данных с двумя классами, где 95% будут принадлежать одному классу и 5% — другому.\n",
        "\n",
        "### 2. Методы решения проблемы несбалансированности\n",
        "\n",
        "#### 2.1. Oversampling (увеличение данных меньшинства)\n",
        "\n",
        "Для увеличения выборки меньшинства будем использовать метод `SMOTE` из библиотеки `imbalanced-learn`.\n",
        "\n"
      ],
      "metadata": {
        "id": "uzM4bDBT4MaF"
      }
    },
    {
      "cell_type": "code",
      "source": [
        "from imblearn.over_sampling import SMOTE\n",
        "from sklearn.model_selection import train_test_split\n",
        "\n",
        "# Разделение на обучающую и тестовую выборку\n",
        "X_train, X_test, y_train, y_test = train_test_split(X, y, test_size=0.3, random_state=42)\n",
        "\n",
        "# Применение SMOTE для увеличения данных меньшинства\n",
        "smote = SMOTE(random_state=42)\n",
        "X_res, y_res = smote.fit_resample(X_train, y_train)\n",
        "\n",
        "# Просмотр новых классов после SMOTE\n",
        "print(f'Классы после SMOTE: {Counter(y_res)}')"
      ],
      "metadata": {
        "colab": {
          "base_uri": "https://localhost:8080/"
        },
        "id": "mVxpGXwu4ib9",
        "outputId": "cdf495b6-6291-4901-8574-d491f722fe32"
      },
      "execution_count": 4,
      "outputs": [
        {
          "output_type": "stream",
          "name": "stdout",
          "text": [
            "Классы после SMOTE: Counter({0: 6622, 1: 6622})\n"
          ]
        }
      ]
    },
    {
      "cell_type": "markdown",
      "source": [
        "Данный код демонстрирует процесс обработки несбалансированного датасета с использованием метода SMOTE (Synthetic Minority Over-sampling Technique) для увеличения количества примеров класса меньшинства. Рассмотрим его более подробно.\n",
        "\n",
        "### Импорт библиотек\n",
        "\n",
        "```python\n",
        "from imblearn.over_sampling import SMOTE\n",
        "from sklearn.model_selection import train_test_split\n",
        "```\n",
        "\n",
        "- **`imblearn.over_sampling.SMOTE`** — класс, реализующий алгоритм SMOTE, который используется для синтетического увеличения выборки класса меньшинства.\n",
        "- **`sklearn.model_selection.train_test_split`** — функция, которая разделяет массивы или матрицы на случайные обучающие и тестовые подмножества.\n",
        "\n",
        "### Разделение на обучающую и тестовую выборку\n",
        "\n",
        "```python\n",
        "X_train, X_test, y_train, y_test = train_test_split(X, y, test_size=0.3, random_state=42)\n",
        "```\n",
        "\n",
        "- **`X`** и **`y`** — это соответственно признаки и целевая переменная, созданные ранее с помощью `make_classification`.\n",
        "- **`test_size=0.3`**: Указывает, что 30% данных будет использовано для тестирования, а 70% — для обучения.\n",
        "- **`random_state=42`**: Устанавливает начальное состояние генератора случайных чисел для воспроизводимости результатов.\n",
        "\n",
        "### Применение SMOTE для увеличения данных меньшинства\n",
        "\n",
        "```python\n",
        "smote = SMOTE(random_state=42)\n",
        "X_res, y_res = smote.fit_resample(X_train, y_train)\n",
        "```\n",
        "\n",
        "- **`smote = SMOTE(random_state=42)`**: Создает объект SMOTE с заданным начальным состоянием генератора случайных чисел.\n",
        "- **`fit_resample(X_train, y_train)`**: Применяет SMOTE к обучающей выборке. В результате алгоритм создает синтетические примеры для класса меньшинства, увеличивая его количество, чтобы сбалансировать данные.\n",
        "\n",
        "### Просмотр новых классов после SMOTE\n",
        "\n",
        "```python\n",
        "print(f'Классы после SMOTE: {Counter(y_res)}')\n",
        "```\n",
        "\n",
        "- Здесь снова используется `Counter` для подсчета количества экземпляров в каждом классе целевой переменной `y_res`, которая теперь содержит как оригинальные, так и синтетически созданные примеры. Результат выводится на экран, показывая новое распределение классов после применения SMOTE.\n",
        "\n",
        "\n",
        "\n",
        "Таким образом, данный код выполняет следующие шаги:\n",
        "1. Разделяет исходный несбалансированный датасет на обучающую и тестовую выборки.\n",
        "2. Применяет SMOTE для создания дополнительных примеров класса меньшинства в обучающей выборке.\n",
        "3. Выводит на экран новое распределение классов, что позволяет оценить эффективность применения метода для обработки несбалансированных данных."
      ],
      "metadata": {
        "id": "rRY67uwf57Ef"
      }
    },
    {
      "cell_type": "markdown",
      "source": [
        "Использование методов обработки несбалансированных данных, таких как SMOTE, в задачах обработки текстов требует дополнительных шагов, поскольку текстовые данные обычно представляются в виде векторов признаков (например, с использованием TF-IDF или Word Embeddings). Рассмотрим, как можно применить SMOTE к текстовым данным.\n",
        "\n",
        "### Шаги для работы с текстовыми данными\n",
        "\n",
        "1. **Предобработка текста**:\n",
        "   - Очистка текста (удаление знаков препинания, приведение к нижнему регистру и т. д.).\n",
        "   - Токенизация (разделение текста на слова или токены).\n",
        "   - Удаление стоп-слов (неинформативных слов).\n",
        "\n",
        "2. **Векторизация текста**:\n",
        "   - Преобразование текстовых данных в числовой формат. Для этого можно использовать:\n",
        "     - **TF-IDF (Term Frequency-Inverse Document Frequency)**: позволяет оценить важность слова в документе относительно всего корпуса.\n",
        "     - **Word Embeddings**: такие как Word2Vec или GloVe, которые представляют слова в виде векторов.\n",
        "\n",
        "3. **Создание модели и разделение данных**:\n",
        "   - Разделите данные на обучающую и тестовую выборки с помощью `train_test_split`.\n",
        "\n",
        "4. **Применение SMOTE**:\n",
        "   - Примените SMOTE к векторизованным данным, чтобы сбалансировать классы.\n",
        "\n",
        "5. **Обучение модели**:\n",
        "   - Обучите модель на сбалансированных данных.\n",
        "\n",
        "### Пример кода\n",
        "\n",
        "Ниже приведен пример, который иллюстрирует эти шаги:\n",
        "\n"
      ],
      "metadata": {
        "id": "stahDJgH58QH"
      }
    },
    {
      "cell_type": "code",
      "source": [
        "import pandas as pd\n",
        "from sklearn.model_selection import train_test_split\n",
        "from sklearn.feature_extraction.text import TfidfVectorizer\n",
        "from imblearn.over_sampling import SMOTE\n",
        "from collections import Counter\n",
        "\n",
        "# Пример текстовых данных\n",
        "data = {\n",
        "    'text': [\n",
        "        'Это положительный пример.',\n",
        "        'Этот пример негативный.',\n",
        "        'Положительный отзыв о продукте.',\n",
        "        'Негативный опыт использования.',\n",
        "        'Отличный сервис.',\n",
        "        'Ужасный сервис.',\n",
        "    ],\n",
        "    'label': [1, 0, 1, 0, 1, 0]  # 1 - положительный, 0 - негативный\n",
        "}\n",
        "\n",
        "df = pd.DataFrame(data)\n",
        "\n",
        "# Векторизация текста\n",
        "vectorizer = TfidfVectorizer()\n",
        "X = vectorizer.fit_transform(df['text']).toarray()\n",
        "y = df['label'].values\n",
        "\n",
        "# Разделение на обучающую и тестовую выборку\n",
        "X_train, X_test, y_train, y_test = train_test_split(X, y, test_size=0.3, random_state=42)\n",
        "\n",
        "# Применение SMOTE для увеличения данных меньшинства\n",
        "smote = SMOTE(random_state=42)\n",
        "X_res, y_res = smote.fit_resample(X_train, y_train)\n",
        "\n",
        "# Просмотр новых классов после SMOTE\n",
        "print(f'Классы после SMOTE: {Counter(y_res)}')"
      ],
      "metadata": {
        "colab": {
          "base_uri": "https://localhost:8080/"
        },
        "id": "GonRWErH6D7B",
        "outputId": "9b4f804f-d69b-41e3-d792-a68a89be1648"
      },
      "execution_count": 9,
      "outputs": [
        {
          "output_type": "stream",
          "name": "stdout",
          "text": [
            "Классы после SMOTE: Counter({0: 2, 1: 2})\n"
          ]
        }
      ]
    },
    {
      "cell_type": "markdown",
      "source": [
        "\n",
        "### Объяснение кода\n",
        "\n",
        "1. **Предобработка текста**: В данном примере текстовые данные уже подготовлены, но в реальных задачах может потребоваться больше предобработки.\n",
        "2. **Векторизация**: Используется `TfidfVectorizer` для преобразования текстов в векторное представление.\n",
        "3. **Разделение данных**: Данные разделяются на обучающую и тестовую выборки.\n",
        "4. **SMOTE**: Применяется для увеличения количества примеров класса меньшинства.\n",
        "5. **Вывод классов**: Показывает новое распределение классов после применения SMOTE.\n",
        "\n",
        "### Заключение\n",
        "\n",
        "Таким образом, метод SMOTE может быть успешно применен к текстовым данным после их преобразования в числовой формат. Это позволяет улучшить качество моделей машинного обучения, обучаемых на несбалансированных текстовых данных."
      ],
      "metadata": {
        "id": "CLcxLFA56EGY"
      }
    },
    {
      "cell_type": "markdown",
      "source": [
        "\n",
        "#### 2.2. Undersampling (уменьшение данных большинства)\n",
        "\n",
        "Для уменьшения данных большинства будем использовать метод случайного уменьшения выборки.\n"
      ],
      "metadata": {
        "id": "PoyTgSEq4iou"
      }
    },
    {
      "cell_type": "code",
      "source": [
        "from imblearn.under_sampling import RandomUnderSampler\n",
        "\n",
        "# Применение RandomUnderSampler для уменьшения данных большинства\n",
        "undersample = RandomUnderSampler(random_state=42)\n",
        "X_res, y_res = undersample.fit_resample(X_train, y_train)\n",
        "\n",
        "# Просмотр новых классов после undersampling\n",
        "print(f'Классы после Undersampling: {Counter(y_res)}')"
      ],
      "metadata": {
        "colab": {
          "base_uri": "https://localhost:8080/"
        },
        "id": "maxswfZ14pGe",
        "outputId": "656542e0-fa26-4cfc-ed85-6334851b8147"
      },
      "execution_count": 5,
      "outputs": [
        {
          "output_type": "stream",
          "name": "stdout",
          "text": [
            "Классы после Undersampling: Counter({0: 378, 1: 378})\n"
          ]
        }
      ]
    },
    {
      "cell_type": "markdown",
      "source": [
        "Данный код иллюстрирует использование метода **undersampling** для обработки несбалансированных данных с помощью библиотеки `imblearn`. В частности, он применяет класс `RandomUnderSampler`, который уменьшает количество примеров класса большинства, чтобы сбалансировать классы в обучающей выборке. Рассмотрим код более подробно.\n",
        "\n",
        "### Импорт библиотеки\n",
        "\n",
        "```python\n",
        "from imblearn.under_sampling import RandomUnderSampler\n",
        "```\n",
        "\n",
        "- **`imblearn.under_sampling.RandomUnderSampler`** — класс, который реализует метод случайного уменьшения выборки (undersampling), позволяющий сбалансировать классы, удаляя случайные примеры из класса большинства.\n",
        "\n",
        "### Применение RandomUnderSampler\n",
        "\n",
        "```python\n",
        "undersample = RandomUnderSampler(random_state=42)\n",
        "X_res, y_res = undersample.fit_resample(X_train, y_train)\n",
        "```\n",
        "\n",
        "- **`undersample = RandomUnderSampler(random_state=42)`**: Создается объект `RandomUnderSampler` с заданным начальным состоянием генератора случайных чисел. Это обеспечивает воспроизводимость результатов, так как при каждом запуске кода будет получаться одинаковый набор случайных данных.\n",
        "  \n",
        "- **`fit_resample(X_train, y_train)`**: Метод `fit_resample` применяется к обучающей выборке. Он выбирает случайные примеры из класса большинства и удаляет их, чтобы уменьшить их количество. В результате создается новый набор данных `X_res` и соответствующий ему целевой вектор `y_res`, в котором классы становятся более сбалансированными.\n",
        "\n",
        "### Просмотр новых классов после undersampling\n",
        "\n",
        "```python\n",
        "print(f'Классы после Undersampling: {Counter(y_res)}')\n",
        "```\n",
        "\n",
        "- Здесь используется `Counter` из модуля `collections` для подсчета количества экземпляров в каждом классе целевой переменной `y_res`, которая теперь содержит уменьшенное количество примеров класса большинства. Результат выводится на экран, показывая новое распределение классов после применения метода undersampling.\n",
        "\n",
        "\n",
        "\n",
        "Таким образом, данный код выполняет следующие шаги:\n",
        "1. Импортирует необходимый класс для уменьшения выборки.\n",
        "2. Создает объект `RandomUnderSampler` для случайного уменьшения данных класса большинства.\n",
        "3. Применяет метод `fit_resample` для уменьшения количества примеров класса большинства в обучающей выборке.\n",
        "4. Выводит на экран новое распределение классов, что позволяет оценить эффективность применения метода undersampling для обработки несбалансированных данных.\n",
        "\n",
        "### Примечание\n",
        "\n",
        "Использование undersampling может привести к потере информации, так как удаляются примеры из класса большинства. Поэтому важно учитывать баланс между сохранением информации и улучшением качества модели."
      ],
      "metadata": {
        "id": "G_7h3Q1H6Rkf"
      }
    },
    {
      "cell_type": "markdown",
      "source": [
        "\n",
        "#### 2.3. Взвешивание классов\n",
        "\n",
        "Для настройки веса классов в модели мы можем использовать параметр `class_weight` в таких алгоритмах как логистическая регрессия или случайный лес.\n",
        "\n"
      ],
      "metadata": {
        "id": "HL9KyFur4pSA"
      }
    },
    {
      "cell_type": "code",
      "source": [
        "from sklearn.ensemble import RandomForestClassifier\n",
        "from sklearn.metrics import classification_report\n",
        "\n",
        "# Обучение модели с весами классов\n",
        "model = RandomForestClassifier(class_weight='balanced', random_state=42)\n",
        "model.fit(X_train, y_train)\n",
        "\n",
        "# Оценка модели\n",
        "y_pred = model.predict(X_test)\n",
        "print(classification_report(y_test, y_pred))"
      ],
      "metadata": {
        "colab": {
          "base_uri": "https://localhost:8080/"
        },
        "id": "oKWXbc8W4v2P",
        "outputId": "063112a1-4c79-4e73-9932-ed35e512cf5f"
      },
      "execution_count": 6,
      "outputs": [
        {
          "output_type": "stream",
          "name": "stdout",
          "text": [
            "              precision    recall  f1-score   support\n",
            "\n",
            "           0       0.96      0.99      0.98      2838\n",
            "           1       0.78      0.36      0.49       162\n",
            "\n",
            "    accuracy                           0.96      3000\n",
            "   macro avg       0.87      0.68      0.74      3000\n",
            "weighted avg       0.95      0.96      0.95      3000\n",
            "\n"
          ]
        }
      ]
    },
    {
      "cell_type": "markdown",
      "source": [
        "Данный код демонстрирует процесс обучения модели классификации с использованием случайного леса (`RandomForestClassifier`) и оценку её производительности с помощью отчета о классификации. Рассмотрим код по шагам.\n",
        "\n",
        "### Импорт библиотек\n",
        "\n",
        "```python\n",
        "from sklearn.ensemble import RandomForestClassifier\n",
        "from sklearn.metrics import classification_report\n",
        "```\n",
        "\n",
        "- **`sklearn.ensemble.RandomForestClassifier`**: класс, который реализует алгоритм случайного леса для классификации. Это ансамблевый метод, использующий множество деревьев решений для улучшения точности и устойчивости.\n",
        "  \n",
        "- **`sklearn.metrics.classification_report`**: функция, которая генерирует текстовый отчет, содержащий основные метрики классификации, такие как точность, полнота и F1-меру.\n",
        "\n",
        "### Обучение модели с весами классов\n",
        "\n",
        "```python\n",
        "model = RandomForestClassifier(class_weight='balanced', random_state=42)\n",
        "model.fit(X_train, y_train)\n",
        "```\n",
        "\n",
        "- **`class_weight='balanced'`**: параметр, который позволяет автоматически вычислять веса классов на основе их частоты в обучающей выборке. Это особенно полезно в случае несбалансированных данных, так как помогает модели более эффективно обучаться на примерах класса меньшинства.\n",
        "\n",
        "- **`random_state=42`**: устанавливает начальное состояние генератора случайных чисел для воспроизводимости результатов.\n",
        "\n",
        "- **`model.fit(X_train, y_train)`**: метод `fit` обучает модель на обучающей выборке `X_train` и соответствующих метках `y_train`.\n",
        "\n",
        "### Оценка модели\n",
        "\n",
        "```python\n",
        "y_pred = model.predict(X_test)\n",
        "print(classification_report(y_test, y_pred))\n",
        "```\n",
        "\n",
        "- **`model.predict(X_test)`**: метод `predict` используется для предсказания классов на тестовой выборке `X_test`. Результаты предсказаний сохраняются в переменной `y_pred`.\n",
        "\n",
        "- **`classification_report(y_test, y_pred)`**: функция генерирует отчет о классификации, сравнивая истинные метки `y_test` с предсказанными метками `y_pred`. Отчет включает:\n",
        "  - **Точность (Precision)**: доля верных положительных предсказаний среди всех положительных предсказаний.\n",
        "  - **Полнота (Recall)**: доля верных положительных предсказаний среди всех истинных положительных экземпляров.\n",
        "  - **F1-мера**: гармоническое среднее между точностью и полнотой.\n",
        "  - **Подсчет классов**: количество экземпляров каждого класса в тестовой выборке.\n",
        "\n",
        "\n",
        "\n",
        "В результате выполнения данного кода вы получите отчет о классификации, который поможет вам оценить качество модели случайного леса на тестовой выборке. Использование весов классов позволяет улучшить производительность модели на несбалансированных данных, что делает этот подход особенно важным в задачах классификации."
      ],
      "metadata": {
        "id": "HpkZasT26YOF"
      }
    },
    {
      "cell_type": "markdown",
      "source": [
        "\n",
        "#### 2.4. Использование F1-метрики и Precision-Recall Curve\n",
        "\n",
        "Для оценки модели с учетом несбалансированности лучше использовать F1-метрику и кривую Precision-Recall.\n",
        "\n"
      ],
      "metadata": {
        "id": "Ar3AZ5qT4wC0"
      }
    },
    {
      "cell_type": "code",
      "source": [
        "from sklearn.metrics import f1_score, precision_recall_curve, auc\n",
        "import matplotlib.pyplot as plt\n",
        "\n",
        "# Вычисление F1-метрики\n",
        "f1 = f1_score(y_test, y_pred)\n",
        "print(f'F1 Score: {f1}')\n",
        "\n",
        "# Построение Precision-Recall Curve\n",
        "precision, recall, _ = precision_recall_curve(y_test, model.predict_proba(X_test)[:, 1])\n",
        "pr_auc = auc(recall, precision)\n",
        "\n",
        "plt.plot(recall, precision, label=f'PR Curve (AUC = {pr_auc:.2f})')\n",
        "plt.xlabel('Recall')\n",
        "plt.ylabel('Precision')\n",
        "plt.title('Precision-Recall Curve')\n",
        "plt.legend()\n",
        "plt.show()"
      ],
      "metadata": {
        "colab": {
          "base_uri": "https://localhost:8080/",
          "height": 490
        },
        "id": "jgcy4pE542S7",
        "outputId": "4bbd558a-7617-4767-a32a-b978d855ed6b"
      },
      "execution_count": 7,
      "outputs": [
        {
          "output_type": "stream",
          "name": "stdout",
          "text": [
            "F1 Score: 0.4915254237288136\n"
          ]
        },
        {
          "output_type": "display_data",
          "data": {
            "text/plain": [
              "<Figure size 640x480 with 1 Axes>"
            ],
            "image/png": "[encoded data removed]"
          },
          "metadata": {}
        }
      ]
    },
    {
      "cell_type": "markdown",
      "source": [
        "Данный код демонстрирует, как вычислить F1-метрику для оценки качества модели и построить кривую Precision-Recall (PR Curve) для визуализации компромисса между точностью и полнотой. Рассмотрим код по шагам.\n",
        "\n",
        "### Импорт библиотек\n",
        "\n",
        "```python\n",
        "from sklearn.metrics import f1_score, precision_recall_curve, auc\n",
        "import matplotlib.pyplot as plt\n",
        "```\n",
        "\n",
        "- **`sklearn.metrics.f1_score`**: функция для вычисления F1-метрики, которая является гармоническим средним между точностью и полнотой.\n",
        "  \n",
        "- **`sklearn.metrics.precision_recall_curve`**: функция для вычисления точности и полноты в зависимости от порога вероятности.\n",
        "  \n",
        "- **`sklearn.metrics.auc`**: функция для вычисления площади под кривой (AUC) для заданных координат (в данном случае для кривой Precision-Recall).\n",
        "\n",
        "- **`matplotlib.pyplot`**: библиотека для визуализации данных.\n",
        "\n",
        "### Вычисление F1-метрики\n",
        "\n",
        "```python\n",
        "f1 = f1_score(y_test, y_pred)\n",
        "print(f'F1 Score: {f1}')\n",
        "```\n",
        "\n",
        "- **`f1_score(y_test, y_pred)`**: вычисляет F1-метрику, сравнивая истинные метки `y_test` с предсказанными метками `y_pred`. Результат сохраняется в переменной `f1`.\n",
        "\n",
        "- **`print(f'F1 Score: {f1}')`**: выводит значение F1-метрики на экран.\n",
        "\n",
        "### Построение Precision-Recall Curve\n",
        "\n",
        "```python\n",
        "precision, recall, _ = precision_recall_curve(y_test, model.predict_proba(X_test)[:, 1])\n",
        "pr_auc = auc(recall, precision)\n",
        "```\n",
        "\n",
        "- **`model.predict_proba(X_test)[:, 1]`**: метод `predict_proba` возвращает вероятности классов для тестовой выборки. Мы берем только вероятности положительного класса (второй столбец), чтобы использовать их для построения кривой.\n",
        "\n",
        "- **`precision_recall_curve(y_test, ...)`**: вычисляет значения точности и полноты для различных порогов вероятности. Результаты сохраняются в переменных `precision` и `recall`.\n",
        "\n",
        "- **`pr_auc = auc(recall, precision)`**: вычисляет площадь под кривой Precision-Recall, используя значения точности и полноты.\n",
        "\n",
        "### Визуализация\n",
        "\n",
        "```python\n",
        "plt.plot(recall, precision, label=f'PR Curve (AUC = {pr_auc:.2f})')\n",
        "plt.xlabel('Recall')\n",
        "plt.ylabel('Precision')\n",
        "plt.title('Precision-Recall Curve')\n",
        "plt.legend()\n",
        "plt.show()\n",
        "```\n",
        "\n",
        "- **`plt.plot(recall, precision, ...)`**: строит график, где по оси X откладывается полнота (Recall), а по оси Y — точность (Precision). Легенда указывает значение AUC.\n",
        "\n",
        "- **`plt.xlabel`, `plt.ylabel`, `plt.title`**: добавляют подписи к осям и заголовок графика.\n",
        "\n",
        "- **`plt.legend()`**: отображает легенду на графике.\n",
        "\n",
        "- **`plt.show()`**: выводит график на экран.\n",
        "\n",
        "\n",
        "\n",
        "Этот код позволяет оценить качество модели с помощью F1-метрики и визуализировать компромисс между точностью и полнотой с помощью кривой Precision-Recall. Площадь под кривой (PR AUC) также предоставляет дополнительную информацию о производительности модели, особенно в условиях несбалансированных классов."
      ],
      "metadata": {
        "id": "kl_6sPNo6hUu"
      }
    },
    {
      "cell_type": "markdown",
      "source": [
        "\n",
        "### 3. Генерация синтетических данных с использованием GAN\n",
        "\n",
        "Для создания синтетических данных с использованием генеративных состязательных сетей (GAN) можно использовать библиотеки `tensorflow` или `pytorch`. Пример простой GAN для генерации синтетических данных выходит за рамки простого кода, но в следующем примере будет показано, как использовать GAN для генерации данных меньшинства:\n",
        "\n"
      ],
      "metadata": {
        "id": "QV043ger42fQ"
      }
    },
    {
      "cell_type": "code",
      "source": [
        "import tensorflow as tf\n",
        "from tensorflow.keras import layers\n",
        "\n",
        "# Простейшая модель GAN для генерации синтетических данных\n",
        "def build_generator():\n",
        "    model = tf.keras.Sequential([\n",
        "        layers.Dense(128, activation='relu', input_dim=100),\n",
        "        layers.Dense(256, activation='relu'),\n",
        "        layers.Dense(512, activation='relu'),\n",
        "        layers.Dense(X_train.shape[1], activation='tanh')\n",
        "    ])\n",
        "    return model\n",
        "\n",
        "# Пример генерации данных (создание модели генератора)\n",
        "generator = build_generator()\n",
        "\n",
        "# Генерация случайных точек (например, 100 случайных чисел для каждой выборки)\n",
        "random_points = np.random.normal(0, 1, size=(X_res.shape[0], 100))\n",
        "\n",
        "# Генерация синтетических данных\n",
        "synthetic_data = generator.predict(random_points)\n",
        "\n",
        "print(synthetic_data[:5])  # Пример первых 5 сгенерированных данных"
      ],
      "metadata": {
        "colab": {
          "base_uri": "https://localhost:8080/"
        },
        "id": "mZIASWYP46YE",
        "outputId": "f16b73df-711b-4062-e2c4-8030051b5667"
      },
      "execution_count": 8,
      "outputs": [
        {
          "output_type": "stream",
          "name": "stderr",
          "text": [
            "/usr/local/lib/python3.10/dist-packages/keras/src/layers/core/dense.py:87: UserWarning: Do not pass an `input_shape`/`input_dim` argument to a layer. When using Sequential models, prefer using an `Input(shape)` object as the first layer in the model instead.\n",
            "  super().__init__(activity_regularizer=activity_regularizer, **kwargs)\n"
          ]
        },
        {
          "output_type": "stream",
          "name": "stdout",
          "text": [
            "\u001b[1m24/24\u001b[0m \u001b[32m━━━━━━━━━━━━━━━━━━━━\u001b[0m\u001b[37m\u001b[0m \u001b[1m0s\u001b[0m 4ms/step\n",
            "[[-0.35714075 -0.622038    0.298361    0.04337721  0.26924476  0.25509062\n",
            "   0.05378887  0.7118767   0.3311833   0.2836347  -0.3041988  -0.17738937\n",
            "   0.12005797 -0.13562025  0.09151539  0.39588052 -0.24261162 -0.4581771\n",
            "  -0.03638669  0.4346808 ]\n",
            " [-0.46055406 -0.39489472  0.6767627  -0.02827092  0.5045516   0.22079106\n",
            "  -0.3880043   0.61864203  0.06183496  0.5003742   0.23170777 -0.20197937\n",
            "  -0.40203562  0.03447343  0.05481991 -0.00079687 -0.01403731 -0.45676628\n",
            "   0.22670646  0.707061  ]\n",
            " [-0.6735434  -0.63662755  0.2677927   0.11832404  0.18730736  0.0538764\n",
            "  -0.3229528   0.36389628  0.21852472  0.08268014  0.3113323  -0.2616392\n",
            "  -0.34043315  0.09419968  0.2776045   0.07488237 -0.21495764 -0.52939266\n",
            "   0.10714283  0.65523124]\n",
            " [-0.10733905 -0.23612052  0.04641095 -0.28958118  0.35618964 -0.06963454\n",
            "  -0.03575594  0.37869185  0.41999397  0.20431972 -0.45356423  0.0106332\n",
            "  -0.24353528 -0.13026832 -0.0291539   0.2036718   0.1349707  -0.08565834\n",
            "   0.16667996  0.2031575 ]\n",
            " [-0.168357   -0.23861068 -0.09948192 -0.14392437  0.2319364  -0.16840014\n",
            "  -0.05222097  0.27086693  0.24701943  0.31773013 -0.0125343  -0.08222338\n",
            "   0.29228878 -0.15800223 -0.06059129  0.05587662 -0.13135076 -0.24263267\n",
            "  -0.07321823 -0.0732979 ]]\n"
          ]
        }
      ]
    },
    {
      "cell_type": "markdown",
      "source": [
        "Данный код создает простейшую модель генеративной состязательной сети (GAN) с использованием библиотеки TensorFlow и Keras для генерации синтетических данных. Рассмотрим код по шагам.\n",
        "\n",
        "### Импорт библиотек\n",
        "\n",
        "```python\n",
        "import tensorflow as tf\n",
        "from tensorflow.keras import layers\n",
        "import numpy as np\n",
        "```\n",
        "\n",
        "- **`tensorflow`**: библиотека для машинного обучения и нейронных сетей.\n",
        "- **`layers`**: модуль Keras для создания слоев нейронных сетей.\n",
        "- **`numpy`**: библиотека для работы с массивами и числовыми вычислениями.\n",
        "\n",
        "### Определение генератора\n",
        "\n",
        "```python\n",
        "def build_generator():\n",
        "    model = tf.keras.Sequential([\n",
        "        layers.Dense(128, activation='relu', input_dim=100),\n",
        "        layers.Dense(256, activation='relu'),\n",
        "        layers.Dense(512, activation='relu'),\n",
        "        layers.Dense(X_train.shape[1], activation='tanh')\n",
        "    ])\n",
        "    return model\n",
        "```\n",
        "\n",
        "- **`build_generator()`**: функция, создающая модель генератора.\n",
        "- **`tf.keras.Sequential`**: используется для создания последовательной модели, где слои добавляются один за другим.\n",
        "- **`layers.Dense`**: полносвязный слой. В данном случае:\n",
        "  - Первый слой принимает входные данные размерности 100 (размерность случайных точек, которые будут подаваться на вход генератору) и имеет 128 нейронов с активацией ReLU.\n",
        "  - Второй слой имеет 256 нейронов.\n",
        "  - Третий слой имеет 512 нейронов.\n",
        "  - Последний слой создает выходные данные размерности, равной количеству признаков в обучающей выборке `X_train`, с активацией `tanh`, что позволяет генерировать значения в диапазоне от -1 до 1.\n",
        "\n",
        "### Создание экземпляра генератора\n",
        "\n",
        "```python\n",
        "generator = build_generator()\n",
        "```\n",
        "\n",
        "- Создается экземпляр генератора, который можно использовать для генерации синтетических данных.\n",
        "\n",
        "### Генерация случайных точек\n",
        "\n",
        "```python\n",
        "random_points = np.random.normal(0, 1, size=(X_res.shape[0], 100))\n",
        "```\n",
        "\n",
        "- **`np.random.normal(0, 1, size=(X_res.shape[0], 100))`**: генерирует массив случайных точек из нормального распределения с средним 0 и стандартным отклонением 1. Размер массива — `(количество примеров в X_res, 100)`, где `X_res.shape[0]` — количество примеров в сбалансированной выборке.\n",
        "\n",
        "### Генерация синтетических данных\n",
        "\n",
        "```python\n",
        "synthetic_data = generator.predict(random_points)\n",
        "```\n",
        "\n",
        "- **`generator.predict(random_points)`**: метод `predict` используется для генерации синтетических данных, подавая на вход случайные точки. Результат сохраняется в переменной `synthetic_data`.\n",
        "\n",
        "### Вывод первых 5 сгенерированных данных\n",
        "\n",
        "```python\n",
        "print(synthetic_data[:5])  # Пример первых 5 сгенерированных данных\n",
        "```\n",
        "\n",
        "- Выводятся первые 5 сгенерированных данных для проверки работы генератора.\n",
        "\n",
        "Такми образом, этот код демонстрирует создание простейшего генератора для GAN, который может использоваться для генерации синтетических данных. Сначала создается модель генератора, затем генерируются случайные точки, которые подаются на вход генератора для получения синтетических данных."
      ],
      "metadata": {
        "id": "yeTCJuOH6tZe"
      }
    },
    {
      "cell_type": "markdown",
      "source": [
        "\n",
        "### Заключение\n",
        "\n",
        "Мы рассмотрели несколько способов решения проблемы несбалансированности классов, включая увеличение данных меньшинства с помощью SMOTE, уменьшение данных большинства с помощью RandomUnderSampler, а также использование взвешивания классов для алгоритмов. Мы также применили правильные метрики, такие как F1 и Precision-Recall Curve, для оценки эффективности моделей на несбалансированных данных.\n",
        "\n",
        "Эти методы помогут вам повысить точность и надежность моделей, обучаемых на несбалансированных данных, и применимы к реальным задачам, таким как обнаружение мошенничества, диагностика заболеваний и классификация текстов.\n",
        "\n",
        "\n",
        "\n"
      ],
      "metadata": {
        "id": "vDQegS-q46lH"
      }
    }
  ]
}